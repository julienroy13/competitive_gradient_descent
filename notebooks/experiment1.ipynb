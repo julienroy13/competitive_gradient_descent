{
 "cells": [
  {
   "cell_type": "code",
   "execution_count": 1,
   "metadata": {},
   "outputs": [],
   "source": [
    "import torch\n",
    "import matplotlib.pyplot as plt\n",
    "import numpy as np\n",
    "import random\n",
    "%matplotlib inline"
   ]
  },
  {
   "cell_type": "markdown",
   "metadata": {},
   "source": [
    "### The Problem"
   ]
  },
  {
   "cell_type": "code",
   "execution_count": 2,
   "metadata": {},
   "outputs": [],
   "source": [
    "def f(x, y, alpha):\n",
    "    return alpha * x * y\n",
    "\n",
    "\n",
    "x = torch.tensor([0.3], requires_grad=True)\n",
    "y = torch.tensor([0.6], requires_grad=True)\n",
    "alphas = [1., 3., 6.]\n",
    "n_updates = 50\n",
    "lr = 0.1"
   ]
  },
  {
   "cell_type": "markdown",
   "metadata": {},
   "source": [
    "### GDA (Gradient Descent Ascent)"
   ]
  },
  {
   "cell_type": "code",
   "execution_count": 3,
   "metadata": {},
   "outputs": [],
   "source": [
    "def GDA_step(out):\n",
    "    d_x, d_y = torch.autograd.grad(outputs=out, inputs=[x, y], create_graph=False)\n",
    "    return d_x, d_y"
   ]
  },
  {
   "cell_type": "markdown",
   "metadata": {},
   "source": [
    "### Results"
   ]
  },
  {
   "cell_type": "code",
   "execution_count": 4,
   "metadata": {},
   "outputs": [
    {
     "data": {
      "image/png": "[encoded data removed]",
      "text/plain": [
       "<Figure size 1080x288 with 3 Axes>"
      ]
     },
     "metadata": {
      "needs_background": "light"
     },
     "output_type": "display_data"
    }
   ],
   "source": [
    "# Execution loops\n",
    "\n",
    "alg_names = ['GDA']\n",
    "alg_updates = [GDA_step]\n",
    "\n",
    "recorder = {alg_name: {f'alpha={alpha}': [[x, y]] for alpha in alphas} for alg_name in alg_names}\n",
    "for alg_name, alg_update in zip(alg_names, alg_updates):\n",
    "    for alpha in alphas:\n",
    "        for i in range(n_updates):\n",
    "            step_x, step_y = alg_update(f(x, y, alpha))\n",
    "            x = x - lr * step_x\n",
    "            y = y - lr * step_y\n",
    "\n",
    "            recorder[alg_name][f'alpha={alpha}'].append([x,y])\n",
    "\n",
    "# Plotting\n",
    "\n",
    "fig, axes = plt.subplots(1, 3, figsize=(15, 4))\n",
    "for ax, alpha in zip(axes, alphas):\n",
    "\n",
    "    for alg_name in alg_names:\n",
    "        x_s, y_s = np.array(recorder[alg_name][f'alpha={alpha}']).T\n",
    "        ax.plot(x_s, y_s, marker='o', color='blue', fillstyle='none', linewidth=1, label=alg_name)\n",
    "\n",
    "    ax.set_title(rf'$\\alpha$={alpha}')\n",
    "    ax.set_xlabel('x')\n",
    "    ax.set_ylabel('y')\n",
    "    ax.set_xlim(-2, 2)\n",
    "    ax.set_ylim(-2, 2)\n",
    "    ax.locator_params('x', nbins=5)\n",
    "    ax.locator_params('y', nbins=5)\n",
    "    ax.legend(loc='upper right')\n",
    "plt.show()"
   ]
  },
  {
   "cell_type": "code",
   "execution_count": null,
   "metadata": {},
   "outputs": [],
   "source": []
  }
 ],
 "metadata": {
  "kernelspec": {
   "display_name": "Python 3",
   "language": "python",
   "name": "python3"
  },
  "language_info": {
   "codemirror_mode": {
    "name": "ipython",
    "version": 3
   },
   "file_extension": ".py",
   "mimetype": "text/x-python",
   "name": "python",
   "nbconvert_exporter": "python",
   "pygments_lexer": "ipython3",
   "version": "3.7.4"
  }
 },
 "nbformat": 4,
 "nbformat_minor": 2
}
