{
  "nbformat": 4,
  "nbformat_minor": 0,
  "metadata": {
    "colab": {
      "name": "gan cgd",
      "provenance": [],
      "collapsed_sections": [],
      "machine_shape": "hm",
      "include_colab_link": true
    },
    "kernelspec": {
      "name": "python3",
      "display_name": "Python 3"
    },
    "widgets": {
      "application/vnd.jupyter.widget-state+json": {
        "908c0d99495249c0a2506f337fa7799d": {
          "model_module": "@jupyter-widgets/controls",
          "model_name": "HBoxModel",
          "state": {
            "_view_name": "HBoxView",
            "_dom_classes": [],
            "_model_name": "HBoxModel",
            "_view_module": "@jupyter-widgets/controls",
            "_model_module_version": "1.5.0",
            "_view_count": null,
            "_view_module_version": "1.5.0",
            "box_style": "",
            "layout": "IPY_MODEL_ed22b6fab55c407c9b86edd96952149e",
            "_model_module": "@jupyter-widgets/controls",
            "children": [
              "IPY_MODEL_1c22dfd3fdfc4a7ca331f701673138d1",
              "IPY_MODEL_fa8616b051e546a6ab6e9eb1a1ca56f6"
            ]
          }
        },
        "ed22b6fab55c407c9b86edd96952149e": {
          "model_module": "@jupyter-widgets/base",
          "model_name": "LayoutModel",
          "state": {
            "_view_name": "LayoutView",
            "grid_template_rows": null,
            "right": null,
            "justify_content": null,
            "_view_module": "@jupyter-widgets/base",
            "overflow": null,
            "_model_module_version": "1.2.0",
            "_view_count": null,
            "flex_flow": null,
            "width": null,
            "min_width": null,
            "border": null,
            "align_items": null,
            "bottom": null,
            "_model_module": "@jupyter-widgets/base",
            "top": null,
            "grid_column": null,
            "overflow_y": null,
            "overflow_x": null,
            "grid_auto_flow": null,
            "grid_area": null,
            "grid_template_columns": null,
            "flex": null,
            "_model_name": "LayoutModel",
            "justify_items": null,
            "grid_row": null,
            "max_height": null,
            "align_content": null,
            "visibility": null,
            "align_self": null,
            "height": null,
            "min_height": null,
            "padding": null,
            "grid_auto_rows": null,
            "grid_gap": null,
            "max_width": null,
            "order": null,
            "_view_module_version": "1.2.0",
            "grid_template_areas": null,
            "object_position": null,
            "object_fit": null,
            "grid_auto_columns": null,
            "margin": null,
            "display": null,
            "left": null
          }
        },
        "1c22dfd3fdfc4a7ca331f701673138d1": {
          "model_module": "@jupyter-widgets/controls",
          "model_name": "IntProgressModel",
          "state": {
            "_view_name": "ProgressView",
            "style": "IPY_MODEL_69e918e22ea44173960bd2ed189e134e",
            "_dom_classes": [],
            "description": "",
            "_model_name": "IntProgressModel",
            "bar_style": "danger",
            "max": 5000,
            "_view_module": "@jupyter-widgets/controls",
            "_model_module_version": "1.5.0",
            "value": 0,
            "_view_count": null,
            "_view_module_version": "1.5.0",
            "orientation": "horizontal",
            "min": 0,
            "description_tooltip": null,
            "_model_module": "@jupyter-widgets/controls",
            "layout": "IPY_MODEL_2030a9228ea8435fbc645a7061e37b59"
          }
        },
        "fa8616b051e546a6ab6e9eb1a1ca56f6": {
          "model_module": "@jupyter-widgets/controls",
          "model_name": "HTMLModel",
          "state": {
            "_view_name": "HTMLView",
            "style": "IPY_MODEL_f5e25f6308b044c093e40e29a238c928",
            "_dom_classes": [],
            "description": "",
            "_model_name": "HTMLModel",
            "placeholder": "​",
            "_view_module": "@jupyter-widgets/controls",
            "_model_module_version": "1.5.0",
            "value": "  0% 0/5000 [00:00&lt;?, ?it/s]",
            "_view_count": null,
            "_view_module_version": "1.5.0",
            "description_tooltip": null,
            "_model_module": "@jupyter-widgets/controls",
            "layout": "IPY_MODEL_a1c40033d45e485a9476624570b61fd1"
          }
        },
        "69e918e22ea44173960bd2ed189e134e": {
          "model_module": "@jupyter-widgets/controls",
          "model_name": "ProgressStyleModel",
          "state": {
            "_view_name": "StyleView",
            "_model_name": "ProgressStyleModel",
            "description_width": "",
            "_view_module": "@jupyter-widgets/base",
            "_model_module_version": "1.5.0",
            "_view_count": null,
            "_view_module_version": "1.2.0",
            "bar_color": null,
            "_model_module": "@jupyter-widgets/controls"
          }
        },
        "2030a9228ea8435fbc645a7061e37b59": {
          "model_module": "@jupyter-widgets/base",
          "model_name": "LayoutModel",
          "state": {
            "_view_name": "LayoutView",
            "grid_template_rows": null,
            "right": null,
            "justify_content": null,
            "_view_module": "@jupyter-widgets/base",
            "overflow": null,
            "_model_module_version": "1.2.0",
            "_view_count": null,
            "flex_flow": null,
            "width": null,
            "min_width": null,
            "border": null,
            "align_items": null,
            "bottom": null,
            "_model_module": "@jupyter-widgets/base",
            "top": null,
            "grid_column": null,
            "overflow_y": null,
            "overflow_x": null,
            "grid_auto_flow": null,
            "grid_area": null,
            "grid_template_columns": null,
            "flex": null,
            "_model_name": "LayoutModel",
            "justify_items": null,
            "grid_row": null,
            "max_height": null,
            "align_content": null,
            "visibility": null,
            "align_self": null,
            "height": null,
            "min_height": null,
            "padding": null,
            "grid_auto_rows": null,
            "grid_gap": null,
            "max_width": null,
            "order": null,
            "_view_module_version": "1.2.0",
            "grid_template_areas": null,
            "object_position": null,
            "object_fit": null,
            "grid_auto_columns": null,
            "margin": null,
            "display": null,
            "left": null
          }
        },
        "f5e25f6308b044c093e40e29a238c928": {
          "model_module": "@jupyter-widgets/controls",
          "model_name": "DescriptionStyleModel",
          "state": {
            "_view_name": "StyleView",
            "_model_name": "DescriptionStyleModel",
            "description_width": "",
            "_view_module": "@jupyter-widgets/base",
            "_model_module_version": "1.5.0",
            "_view_count": null,
            "_view_module_version": "1.2.0",
            "_model_module": "@jupyter-widgets/controls"
          }
        },
        "a1c40033d45e485a9476624570b61fd1": {
          "model_module": "@jupyter-widgets/base",
          "model_name": "LayoutModel",
          "state": {
            "_view_name": "LayoutView",
            "grid_template_rows": null,
            "right": null,
            "justify_content": null,
            "_view_module": "@jupyter-widgets/base",
            "overflow": null,
            "_model_module_version": "1.2.0",
            "_view_count": null,
            "flex_flow": null,
            "width": null,
            "min_width": null,
            "border": null,
            "align_items": null,
            "bottom": null,
            "_model_module": "@jupyter-widgets/base",
            "top": null,
            "grid_column": null,
            "overflow_y": null,
            "overflow_x": null,
            "grid_auto_flow": null,
            "grid_area": null,
            "grid_template_columns": null,
            "flex": null,
            "_model_name": "LayoutModel",
            "justify_items": null,
            "grid_row": null,
            "max_height": null,
            "align_content": null,
            "visibility": null,
            "align_self": null,
            "height": null,
            "min_height": null,
            "padding": null,
            "grid_auto_rows": null,
            "grid_gap": null,
            "max_width": null,
            "order": null,
            "_view_module_version": "1.2.0",
            "grid_template_areas": null,
            "object_position": null,
            "object_fit": null,
            "grid_auto_columns": null,
            "margin": null,
            "display": null,
            "left": null
          }
        },
        "f07ce81dd8ff437a9fa3626429776410": {
          "model_module": "@jupyter-widgets/controls",
          "model_name": "HBoxModel",
          "state": {
            "_view_name": "HBoxView",
            "_dom_classes": [],
            "_model_name": "HBoxModel",
            "_view_module": "@jupyter-widgets/controls",
            "_model_module_version": "1.5.0",
            "_view_count": null,
            "_view_module_version": "1.5.0",
            "box_style": "",
            "layout": "IPY_MODEL_adddf3f10b7b46dc98fe7538ec2aa2a0",
            "_model_module": "@jupyter-widgets/controls",
            "children": [
              "IPY_MODEL_476556d484604c6db4c834c9755b06e8",
              "IPY_MODEL_81b84f12b75a4d83b842208611535747"
            ]
          }
        },
        "adddf3f10b7b46dc98fe7538ec2aa2a0": {
          "model_module": "@jupyter-widgets/base",
          "model_name": "LayoutModel",
          "state": {
            "_view_name": "LayoutView",
            "grid_template_rows": null,
            "right": null,
            "justify_content": null,
            "_view_module": "@jupyter-widgets/base",
            "overflow": null,
            "_model_module_version": "1.2.0",
            "_view_count": null,
            "flex_flow": null,
            "width": null,
            "min_width": null,
            "border": null,
            "align_items": null,
            "bottom": null,
            "_model_module": "@jupyter-widgets/base",
            "top": null,
            "grid_column": null,
            "overflow_y": null,
            "overflow_x": null,
            "grid_auto_flow": null,
            "grid_area": null,
            "grid_template_columns": null,
            "flex": null,
            "_model_name": "LayoutModel",
            "justify_items": null,
            "grid_row": null,
            "max_height": null,
            "align_content": null,
            "visibility": null,
            "align_self": null,
            "height": null,
            "min_height": null,
            "padding": null,
            "grid_auto_rows": null,
            "grid_gap": null,
            "max_width": null,
            "order": null,
            "_view_module_version": "1.2.0",
            "grid_template_areas": null,
            "object_position": null,
            "object_fit": null,
            "grid_auto_columns": null,
            "margin": null,
            "display": null,
            "left": null
          }
        },
        "476556d484604c6db4c834c9755b06e8": {
          "model_module": "@jupyter-widgets/controls",
          "model_name": "IntProgressModel",
          "state": {
            "_view_name": "ProgressView",
            "style": "IPY_MODEL_a77f260a459e4232924dcfa829ea52c8",
            "_dom_classes": [],
            "description": "",
            "_model_name": "IntProgressModel",
            "bar_style": "info",
            "max": 1,
            "_view_module": "@jupyter-widgets/controls",
            "_model_module_version": "1.5.0",
            "value": 1,
            "_view_count": null,
            "_view_module_version": "1.5.0",
            "orientation": "horizontal",
            "min": 0,
            "description_tooltip": null,
            "_model_module": "@jupyter-widgets/controls",
            "layout": "IPY_MODEL_528bc1888fbb4d72b275fa5acc28f7eb"
          }
        },
        "81b84f12b75a4d83b842208611535747": {
          "model_module": "@jupyter-widgets/controls",
          "model_name": "HTMLModel",
          "state": {
            "_view_name": "HTMLView",
            "style": "IPY_MODEL_0066cb65ab364961ae0bb670d1740fa8",
            "_dom_classes": [],
            "description": "",
            "_model_name": "HTMLModel",
            "placeholder": "​",
            "_view_module": "@jupyter-widgets/controls",
            "_model_module_version": "1.5.0",
            "value": "14416it [01:14, 188.56it/s]",
            "_view_count": null,
            "_view_module_version": "1.5.0",
            "description_tooltip": null,
            "_model_module": "@jupyter-widgets/controls",
            "layout": "IPY_MODEL_d6f95c9d2c5b46cf9f323afb09d0d544"
          }
        },
        "a77f260a459e4232924dcfa829ea52c8": {
          "model_module": "@jupyter-widgets/controls",
          "model_name": "ProgressStyleModel",
          "state": {
            "_view_name": "StyleView",
            "_model_name": "ProgressStyleModel",
            "description_width": "",
            "_view_module": "@jupyter-widgets/base",
            "_model_module_version": "1.5.0",
            "_view_count": null,
            "_view_module_version": "1.2.0",
            "bar_color": null,
            "_model_module": "@jupyter-widgets/controls"
          }
        },
        "528bc1888fbb4d72b275fa5acc28f7eb": {
          "model_module": "@jupyter-widgets/base",
          "model_name": "LayoutModel",
          "state": {
            "_view_name": "LayoutView",
            "grid_template_rows": null,
            "right": null,
            "justify_content": null,
            "_view_module": "@jupyter-widgets/base",
            "overflow": null,
            "_model_module_version": "1.2.0",
            "_view_count": null,
            "flex_flow": null,
            "width": null,
            "min_width": null,
            "border": null,
            "align_items": null,
            "bottom": null,
            "_model_module": "@jupyter-widgets/base",
            "top": null,
            "grid_column": null,
            "overflow_y": null,
            "overflow_x": null,
            "grid_auto_flow": null,
            "grid_area": null,
            "grid_template_columns": null,
            "flex": null,
            "_model_name": "LayoutModel",
            "justify_items": null,
            "grid_row": null,
            "max_height": null,
            "align_content": null,
            "visibility": null,
            "align_self": null,
            "height": null,
            "min_height": null,
            "padding": null,
            "grid_auto_rows": null,
            "grid_gap": null,
            "max_width": null,
            "order": null,
            "_view_module_version": "1.2.0",
            "grid_template_areas": null,
            "object_position": null,
            "object_fit": null,
            "grid_auto_columns": null,
            "margin": null,
            "display": null,
            "left": null
          }
        },
        "0066cb65ab364961ae0bb670d1740fa8": {
          "model_module": "@jupyter-widgets/controls",
          "model_name": "DescriptionStyleModel",
          "state": {
            "_view_name": "StyleView",
            "_model_name": "DescriptionStyleModel",
            "description_width": "",
            "_view_module": "@jupyter-widgets/base",
            "_model_module_version": "1.5.0",
            "_view_count": null,
            "_view_module_version": "1.2.0",
            "_model_module": "@jupyter-widgets/controls"
          }
        },
        "d6f95c9d2c5b46cf9f323afb09d0d544": {
          "model_module": "@jupyter-widgets/base",
          "model_name": "LayoutModel",
          "state": {
            "_view_name": "LayoutView",
            "grid_template_rows": null,
            "right": null,
            "justify_content": null,
            "_view_module": "@jupyter-widgets/base",
            "overflow": null,
            "_model_module_version": "1.2.0",
            "_view_count": null,
            "flex_flow": null,
            "width": null,
            "min_width": null,
            "border": null,
            "align_items": null,
            "bottom": null,
            "_model_module": "@jupyter-widgets/base",
            "top": null,
            "grid_column": null,
            "overflow_y": null,
            "overflow_x": null,
            "grid_auto_flow": null,
            "grid_area": null,
            "grid_template_columns": null,
            "flex": null,
            "_model_name": "LayoutModel",
            "justify_items": null,
            "grid_row": null,
            "max_height": null,
            "align_content": null,
            "visibility": null,
            "align_self": null,
            "height": null,
            "min_height": null,
            "padding": null,
            "grid_auto_rows": null,
            "grid_gap": null,
            "max_width": null,
            "order": null,
            "_view_module_version": "1.2.0",
            "grid_template_areas": null,
            "object_position": null,
            "object_fit": null,
            "grid_auto_columns": null,
            "margin": null,
            "display": null,
            "left": null
          }
        }
      }
    }
  },
  "cells": [
    {
      "cell_type": "markdown",
      "metadata": {
        "id": "view-in-github",
        "colab_type": "text"
      },
      "source": [
        "<a href=\"https://colab.research.google.com/github/julienroy13/competitive_gradient_descent/blob/master/gan_cgd.ipynb\" target=\"_parent\"><img src=\"https://colab.research.google.com/assets/colab-badge.svg\" alt=\"Open In Colab\"/></a>"
      ]
    },
    {
      "cell_type": "markdown",
      "metadata": {
        "id": "4l-5NgYW90BV",
        "colab_type": "text"
      },
      "source": [
        "GAN Training code referenced\n",
        " from: https://github.com/afiliot/GANs-And-VAEs-For-Gaussian-Mixture/blob/master/DLIP-MP1-GAN-VAE-FILIOT.ipynb"
      ]
    },
    {
      "cell_type": "code",
      "metadata": {
        "id": "azfLEDRhZxgk",
        "colab_type": "code",
        "colab": {}
      },
      "source": [
        "import torch\n",
        "import torch.nn as nn\n",
        "import torch.nn.functional as F\n",
        "import torch.autograd as autograd\n",
        "\n",
        "import numpy as np\n",
        "from torch.distributions.multivariate_normal import MultivariateNormal\n",
        "\n",
        "from tqdm import tqdm_notebook as tqdm\n",
        "import matplotlib.pyplot as plt\n",
        "\n",
        "device = torch.device('cuda' if torch.cuda.is_available() else 'cpu')\n",
        "\n"
      ],
      "execution_count": 0,
      "outputs": []
    },
    {
      "cell_type": "code",
      "metadata": {
        "id": "SrGFEHIfiDZK",
        "colab_type": "code",
        "outputId": "49c5e252-245b-4d3e-a1d3-82d6d434f207",
        "colab": {
          "base_uri": "https://localhost:8080/",
          "height": 265
        }
      },
      "source": [
        "def generate_batch(batchlen,plot=False):\n",
        "  \n",
        "  cov = torch.tensor(np.identity(2)*0.01, dtype=torch.float64)\n",
        "  mu1 = torch.tensor([2**(-1/2), 2**(-1/2)], dtype=torch.float64)\n",
        "  mu2 = torch.tensor([0,1], dtype=torch.float64)\n",
        "  \n",
        "  gaussian1 = MultivariateNormal(loc=mu1, covariance_matrix=cov)\n",
        "  gaussian2 = MultivariateNormal(loc=mu2, covariance_matrix=cov)\n",
        "\n",
        "  data = []\n",
        "  d1 = gaussian1.rsample((int(batchlen/2),))\n",
        "  d2 = gaussian2.rsample((int(batchlen/2),))\n",
        "\n",
        "  data = np.concatenate((d1, d2), axis=0)\n",
        "  np.random.shuffle(data)\n",
        "\n",
        "  if plot:\n",
        "    plt.scatter(data[:,0],data[:,1], s=2.0)\n",
        "  return torch.Tensor(data).to(device)\n",
        "\n",
        "batch = generate_batch(256, plot=True)\n"
      ],
      "execution_count": 2,
      "outputs": [
        {
          "output_type": "display_data",
          "data": {
            "image/png": "[encoded data removed]",
            "text/plain": [
              "<Figure size 432x288 with 1 Axes>"
            ]
          },
          "metadata": {
            "tags": []
          }
        }
      ]
    },
    {
      "cell_type": "code",
      "metadata": {
        "id": "8N4_bcxFbAVm",
        "colab_type": "code",
        "colab": {}
      },
      "source": [
        "# Define the generator\n",
        "class Generator(nn.Module):\n",
        "    def __init__(self, hidden_size=0, noise_size=1, noise_std=1.):\n",
        "        super().__init__()\n",
        "        self.noise_size = noise_size\n",
        "        self.noise_std = noise_std\n",
        "\n",
        "        # First layer\n",
        "        self.fc1 = nn.Linear(noise_size, hidden_size)\n",
        "\n",
        "        self.fc2 = nn.Linear(hidden_size, hidden_size)\n",
        "        self.fc3 = nn.Linear(hidden_size, hidden_size)\n",
        "        self.fc4 = nn.Linear(hidden_size, hidden_size)\n",
        "        self.fc5 = nn.Linear(hidden_size, hidden_size)\n",
        "\n",
        "        self.fc6 = nn.Linear(hidden_size, 2)\n",
        "\n",
        "\n",
        "    def __call__(self, z):\n",
        "        h = F.relu(self.fc1(z))\n",
        "\n",
        "        h = F.relu(self.fc2(h))\n",
        "        h = F.relu(self.fc3(h))\n",
        "        h = F.relu(self.fc4(h))\n",
        "        h = F.relu(self.fc5(h))\n",
        "\n",
        "        return self.fc6(h)\n",
        "\n",
        "    \n",
        "    def generate(self, batchlen):\n",
        "        z = torch.normal(torch.zeros(batchlen, self.noise_size), self.noise_std)\n",
        "        return self.__call__(z)\n",
        "    \n",
        "\n",
        "# Define the discriminator.\n",
        "class Discriminator(nn.Module):\n",
        "    def __init__(self, hidden_size=0):\n",
        "        super().__init__()\n",
        "\n",
        "        self.fc1 = nn.Linear(2, hidden_size)\n",
        "        self.fc2 = nn.Linear(hidden_size, hidden_size)\n",
        "        self.fc3 = nn.Linear(hidden_size, hidden_size)\n",
        "        self.fc4 = nn.Linear(hidden_size, hidden_size)\n",
        "        self.fc5 = nn.Linear(hidden_size, hidden_size)\n",
        "        self.fc6 = nn.Linear(hidden_size, 1)\n",
        "\n",
        "\n",
        "    \n",
        "    def __call__(self, x):\n",
        "        x = F.relu(self.fc1(x))\n",
        "        x = F.relu(self.fc2(x))\n",
        "        x = F.relu(self.fc3(x))\n",
        "        x = F.relu(self.fc4(x))\n",
        "        x = F.relu(self.fc5(x))\n",
        "        # return torch.sigmoid(self.fc6(x))\n",
        "        return self.fc6(x)\n"
      ],
      "execution_count": 0,
      "outputs": []
    },
    {
      "cell_type": "code",
      "metadata": {
        "id": "-ZJtyb-TLyF-",
        "colab_type": "code",
        "colab": {}
      },
      "source": [
        "def compute_hessian(grads, params):\n",
        "    H = []\n",
        "    for i, (grad, p) in enumerate(zip(grads, params)):\n",
        "        grad = grad.reshape(-1)\n",
        "        d = len(grad)\n",
        "        dg = torch.zeros((d, d))\n",
        "        print (dg)\n",
        "        for j, g in enumerate(grad):\n",
        "            g2 = autograd.grad(g, p, create_graph=True)[0].view(-1)\n",
        "            dg[j] = g2\n",
        "\n",
        "        H.append(dg)\n",
        "    print (H)\n",
        "    return H"
      ],
      "execution_count": 0,
      "outputs": []
    },
    {
      "cell_type": "code",
      "metadata": {
        "id": "dtqbcOp0YEA3",
        "colab_type": "code",
        "colab": {}
      },
      "source": [
        "def CGD_step(x, y, out_f, out_g, eta=0.005):\n",
        "  \n",
        "    df_dx = torch.autograd.grad(out_f, x, create_graph=True)\n",
        "    df_dy = torch.autograd.grad(out_f, y, create_graph=True)\n",
        "    dg_dx = torch.autograd.grad(out_g, x, create_graph=True)\n",
        "    dg_dy = torch.autograd.grad(out_g, y, create_graph=True)\n",
        "    # print (df_dx)\n",
        "\n",
        "    \n",
        "    # d2f_dxdy = torch.autograd.grad(df_dx, y, create_graph=False)[0]\n",
        "    # d2g_dydx = torch.autograd.grad(dg_dy, x, create_graph=False)[0]\n",
        "    d2f_dxdy = compute_hessian(df_dx, y)\n",
        "    d2g_dydx = compute_hessian(dg_dy, x)\n",
        "    \n",
        "    \n",
        "    print (d2f_dxdy)\n",
        "    \n",
        "    step_x = ((1. / (1. - (eta ** 2.) * d2f_dxdy * d2g_dydx)) * (df_dx - eta * d2f_dxdy * dg_dy))\n",
        "    step_y = ((1. / (1. - (eta ** 2.) * d2g_dydx * d2f_dxdy)) * (dg_dy - eta * d2g_dydx * df_dx))\n",
        "\n",
        "    return step_x, step_y\n"
      ],
      "execution_count": 0,
      "outputs": []
    },
    {
      "cell_type": "code",
      "metadata": {
        "id": "ybaVR8G-bNWT",
        "colab_type": "code",
        "colab": {}
      },
      "source": [
        "def GAN(TRAIN_RATIO=1, N_ITER=5000, BATCHLEN=128,\n",
        "        hidden_size_G=0, hidden_size_D=0,\n",
        "        noise_size=1, noise_std=1., frame=1000):\n",
        "    \"\"\"\n",
        "    TRAIN_RATIO : int, number of times to train the discriminator between two generator steps\n",
        "    N_ITER : int, total number of training iterations for the generator\n",
        "    BATCHLEN : int, Batch size to use\n",
        "    hidden_size_G : int, width of the generator (number of neurons in hidden layers)\n",
        "    hidden_size_D : int, width of the discriminator (number of neurons in hidden layers)\n",
        "    noise_size : int, dimension of input noise\n",
        "    noise_std : float, standard deviation of p(z)\n",
        "    frame : int, display data each 'frame' iteration\n",
        "    \"\"\"\n",
        "\n",
        "    G = Generator(hidden_size=hidden_size_G, noise_size=noise_size, noise_std=noise_std)\n",
        "    solver_G = torch.optim.SGD(G.parameters(), lr=1e-3)\n",
        "    D = Discriminator(hidden_size=hidden_size_D)\n",
        "    solver_D = torch.optim.SGD(D.parameters(), lr=1e-4)\n",
        "\n",
        "    for i in tqdm(range(N_ITER)):\n",
        "        # train the discriminator\n",
        "        for _ in range(TRAIN_RATIO):\n",
        "            D.zero_grad()\n",
        "            real_batch = generate_batch(BATCHLEN)\n",
        "            fake_batch = G.generate(BATCHLEN)\n",
        "\n",
        "            # Compute here the discriminator loss, using functions like torch.sum, torch.exp, torch.log,\n",
        "            # torch.softplus, using real_batch and fake_batch\n",
        "            h_real = D(real_batch)\n",
        "            h_fake = D(fake_batch)\n",
        "            loss_real = torch.mean(torch.sum(F.softplus(-h_real)))\n",
        "            loss_fake = torch.mean(torch.sum(F.softplus(h_fake)))\n",
        "            disc_loss = loss_real + loss_fake\n",
        "\n",
        "        # train the generator\n",
        "        G.zero_grad()\n",
        "        fake_batch = G.generate(BATCHLEN)\n",
        "        # Compute here the generator loss, using fake_batch\n",
        "        h_fake = D(fake_batch)\n",
        "        gen_loss = - torch.mean(torch.sum(F.softplus(h_fake)))\n",
        "\n",
        "        # TDOO: cgd here\n",
        "        step_x, step_y = CGD_step(x=(D.parameters()), y=(G.parameters()), out_f=disc_loss, out_g=gen_loss)\n",
        "        print (\"step x\")\n",
        "        print (step_x)\n",
        "        break\n",
        "        solver_D.step()\n",
        "        solver_G.step()\n",
        "        \n",
        "        \n",
        "        \n",
        "        if i%frame == 0:\n",
        "            print('step {}: discriminator: {:.3e}, generator: {:.3e}'.format(i, float(disc_loss), float(gen_loss)))\n",
        "            # plot the result\n",
        "            real_batch = generate_batch(1024)\n",
        "            fake_batch = G.generate(1024).detach()\n",
        "            plt.scatter(real_batch[:,0], real_batch[:,1], s=2.0, label='real data')\n",
        "            plt.scatter(fake_batch[:,0], fake_batch[:,1], s=2.0, label='fake data')\n",
        "            plt.show()"
      ],
      "execution_count": 0,
      "outputs": []
    },
    {
      "cell_type": "code",
      "metadata": {
        "id": "vS5jcJcdbVqj",
        "colab_type": "code",
        "outputId": "f2bdd8d9-c0ba-4cd9-f5d9-a69496873305",
        "colab": {
          "base_uri": "https://localhost:8080/",
          "height": 447,
          "referenced_widgets": [
            "908c0d99495249c0a2506f337fa7799d",
            "ed22b6fab55c407c9b86edd96952149e",
            "1c22dfd3fdfc4a7ca331f701673138d1",
            "fa8616b051e546a6ab6e9eb1a1ca56f6",
            "69e918e22ea44173960bd2ed189e134e",
            "2030a9228ea8435fbc645a7061e37b59",
            "f5e25f6308b044c093e40e29a238c928",
            "a1c40033d45e485a9476624570b61fd1"
          ]
        }
      },
      "source": [
        "GAN(TRAIN_RATIO=2, N_ITER=5000, BATCHLEN=128,\n",
        "    hidden_size_G=128, hidden_size_D=128,\n",
        "    noise_size=512, noise_std=6, frame=100)"
      ],
      "execution_count": 0,
      "outputs": [
        {
          "output_type": "display_data",
          "data": {
            "application/vnd.jupyter.widget-view+json": {
              "model_id": "908c0d99495249c0a2506f337fa7799d",
              "version_minor": 0,
              "version_major": 2
            },
            "text/plain": [
              "HBox(children=(IntProgress(value=0, max=5000), HTML(value='')))"
            ]
          },
          "metadata": {
            "tags": []
          }
        },
        {
          "output_type": "stream",
          "text": [
            "[]\n",
            "[]\n",
            "[]\n",
            "\n"
          ],
          "name": "stdout"
        },
        {
          "output_type": "error",
          "ename": "TypeError",
          "evalue": "ignored",
          "traceback": [
            "\u001b[0;31m---------------------------------------------------------------------------\u001b[0m",
            "\u001b[0;31mTypeError\u001b[0m                                 Traceback (most recent call last)",
            "\u001b[0;32m<ipython-input-8-b5e7d9f846dc>\u001b[0m in \u001b[0;36m<module>\u001b[0;34m()\u001b[0m\n\u001b[1;32m      1\u001b[0m GAN(TRAIN_RATIO=2, N_ITER=5000, BATCHLEN=128,\n\u001b[1;32m      2\u001b[0m     \u001b[0mhidden_size_G\u001b[0m\u001b[0;34m=\u001b[0m\u001b[0;36m128\u001b[0m\u001b[0;34m,\u001b[0m \u001b[0mhidden_size_D\u001b[0m\u001b[0;34m=\u001b[0m\u001b[0;36m128\u001b[0m\u001b[0;34m,\u001b[0m\u001b[0;34m\u001b[0m\u001b[0;34m\u001b[0m\u001b[0m\n\u001b[0;32m----> 3\u001b[0;31m     noise_size=512, noise_std=6, frame=100)\n\u001b[0m",
            "\u001b[0;32m<ipython-input-7-fc4352167ac9>\u001b[0m in \u001b[0;36mGAN\u001b[0;34m(TRAIN_RATIO, N_ITER, BATCHLEN, hidden_size_G, hidden_size_D, noise_size, noise_std, frame)\u001b[0m\n\u001b[1;32m     44\u001b[0m \u001b[0;34m\u001b[0m\u001b[0m\n\u001b[1;32m     45\u001b[0m \u001b[0;34m\u001b[0m\u001b[0m\n\u001b[0;32m---> 46\u001b[0;31m         \u001b[0mstep_x\u001b[0m\u001b[0;34m,\u001b[0m \u001b[0mstep_y\u001b[0m \u001b[0;34m=\u001b[0m \u001b[0mCGD_step\u001b[0m\u001b[0;34m(\u001b[0m\u001b[0mx\u001b[0m\u001b[0;34m=\u001b[0m\u001b[0;34m(\u001b[0m\u001b[0mD\u001b[0m\u001b[0;34m.\u001b[0m\u001b[0mparameters\u001b[0m\u001b[0;34m(\u001b[0m\u001b[0;34m)\u001b[0m\u001b[0;34m)\u001b[0m\u001b[0;34m,\u001b[0m \u001b[0my\u001b[0m\u001b[0;34m=\u001b[0m\u001b[0;34m(\u001b[0m\u001b[0mG\u001b[0m\u001b[0;34m.\u001b[0m\u001b[0mparameters\u001b[0m\u001b[0;34m(\u001b[0m\u001b[0;34m)\u001b[0m\u001b[0;34m)\u001b[0m\u001b[0;34m,\u001b[0m \u001b[0mout_f\u001b[0m\u001b[0;34m=\u001b[0m\u001b[0mdisc_loss\u001b[0m\u001b[0;34m,\u001b[0m \u001b[0mout_g\u001b[0m\u001b[0;34m=\u001b[0m\u001b[0mgen_loss\u001b[0m\u001b[0;34m)\u001b[0m\u001b[0;34m\u001b[0m\u001b[0;34m\u001b[0m\u001b[0m\n\u001b[0m\u001b[1;32m     47\u001b[0m         \u001b[0mprint\u001b[0m \u001b[0;34m(\u001b[0m\u001b[0;34m\"step x\"\u001b[0m\u001b[0;34m)\u001b[0m\u001b[0;34m\u001b[0m\u001b[0;34m\u001b[0m\u001b[0m\n\u001b[1;32m     48\u001b[0m         \u001b[0mprint\u001b[0m \u001b[0;34m(\u001b[0m\u001b[0mstep_x\u001b[0m\u001b[0;34m)\u001b[0m\u001b[0;34m\u001b[0m\u001b[0;34m\u001b[0m\u001b[0m\n",
            "\u001b[0;32m<ipython-input-5-f0fd150708d9>\u001b[0m in \u001b[0;36mCGD_step\u001b[0;34m(x, y, out_f, out_g, eta)\u001b[0m\n\u001b[1;32m     16\u001b[0m     \u001b[0mprint\u001b[0m \u001b[0;34m(\u001b[0m\u001b[0md2f_dxdy\u001b[0m\u001b[0;34m)\u001b[0m\u001b[0;34m\u001b[0m\u001b[0;34m\u001b[0m\u001b[0m\n\u001b[1;32m     17\u001b[0m \u001b[0;34m\u001b[0m\u001b[0m\n\u001b[0;32m---> 18\u001b[0;31m     \u001b[0mstep_x\u001b[0m \u001b[0;34m=\u001b[0m \u001b[0;34m(\u001b[0m\u001b[0;34m(\u001b[0m\u001b[0;36m1.\u001b[0m \u001b[0;34m/\u001b[0m \u001b[0;34m(\u001b[0m\u001b[0;36m1.\u001b[0m \u001b[0;34m-\u001b[0m \u001b[0;34m(\u001b[0m\u001b[0meta\u001b[0m \u001b[0;34m**\u001b[0m \u001b[0;36m2.\u001b[0m\u001b[0;34m)\u001b[0m \u001b[0;34m*\u001b[0m \u001b[0md2f_dxdy\u001b[0m \u001b[0;34m*\u001b[0m \u001b[0md2g_dydx\u001b[0m\u001b[0;34m)\u001b[0m\u001b[0;34m)\u001b[0m \u001b[0;34m*\u001b[0m \u001b[0;34m(\u001b[0m\u001b[0mdf_dx\u001b[0m \u001b[0;34m-\u001b[0m \u001b[0meta\u001b[0m \u001b[0;34m*\u001b[0m \u001b[0md2f_dxdy\u001b[0m \u001b[0;34m*\u001b[0m \u001b[0mdg_dy\u001b[0m\u001b[0;34m)\u001b[0m\u001b[0;34m)\u001b[0m\u001b[0;34m\u001b[0m\u001b[0;34m\u001b[0m\u001b[0m\n\u001b[0m\u001b[1;32m     19\u001b[0m     \u001b[0mstep_y\u001b[0m \u001b[0;34m=\u001b[0m \u001b[0;34m(\u001b[0m\u001b[0;34m(\u001b[0m\u001b[0;36m1.\u001b[0m \u001b[0;34m/\u001b[0m \u001b[0;34m(\u001b[0m\u001b[0;36m1.\u001b[0m \u001b[0;34m-\u001b[0m \u001b[0;34m(\u001b[0m\u001b[0meta\u001b[0m \u001b[0;34m**\u001b[0m \u001b[0;36m2.\u001b[0m\u001b[0;34m)\u001b[0m \u001b[0;34m*\u001b[0m \u001b[0md2g_dydx\u001b[0m \u001b[0;34m*\u001b[0m \u001b[0md2f_dxdy\u001b[0m\u001b[0;34m)\u001b[0m\u001b[0;34m)\u001b[0m \u001b[0;34m*\u001b[0m \u001b[0;34m(\u001b[0m\u001b[0mdg_dy\u001b[0m \u001b[0;34m-\u001b[0m \u001b[0meta\u001b[0m \u001b[0;34m*\u001b[0m \u001b[0md2g_dydx\u001b[0m \u001b[0;34m*\u001b[0m \u001b[0mdf_dx\u001b[0m\u001b[0;34m)\u001b[0m\u001b[0;34m)\u001b[0m\u001b[0;34m\u001b[0m\u001b[0;34m\u001b[0m\u001b[0m\n\u001b[1;32m     20\u001b[0m \u001b[0;34m\u001b[0m\u001b[0m\n",
            "\u001b[0;31mTypeError\u001b[0m: can't multiply sequence by non-int of type 'float'"
          ]
        }
      ]
    },
    {
      "cell_type": "code",
      "metadata": {
        "id": "e7-KN9NyExSu",
        "colab_type": "code",
        "colab": {}
      },
      "source": [
        "BATCHLEN=128\n",
        "hidden_size_G=100\n",
        "hidden_size_D=100\n",
        "noise_size = 500\n",
        "noise_std=6\n",
        "\n",
        "\n",
        "G = Generator(hidden_size=hidden_size_G, noise_size=noise_size, noise_std=noise_std)\n",
        "solver_G = torch.optim.SGD(G.parameters(), lr=1e-3)\n",
        "D = Discriminator(hidden_size=hidden_size_D)\n",
        "solver_D = torch.optim.SGD(D.parameters(), lr=1e-4)\n",
        "\n",
        "D.zero_grad()\n",
        "G.zero_grad()\n",
        "fake_batch = G.generate(BATCHLEN)\n",
        "# Compute here the generator loss, using fake_batch\n",
        "h_fake = D(fake_batch)\n",
        "gen_loss = - torch.mean(torch.sum(F.softplus(h_fake)))\n",
        "\n"
      ],
      "execution_count": 0,
      "outputs": []
    },
    {
      "cell_type": "code",
      "metadata": {
        "id": "nEJ4R7fUNnda",
        "colab_type": "code",
        "colab": {}
      },
      "source": [
        " df_dx = torch.autograd.grad(gen_loss, G.parameters(), create_graph=True)"
      ],
      "execution_count": 0,
      "outputs": []
    },
    {
      "cell_type": "code",
      "metadata": {
        "id": "ahI0tVRgQioq",
        "colab_type": "code",
        "outputId": "8ffac4fa-a420-4335-fa01-f5d96535746e",
        "colab": {
          "base_uri": "https://localhost:8080/",
          "height": 49,
          "referenced_widgets": [
            "f07ce81dd8ff437a9fa3626429776410",
            "adddf3f10b7b46dc98fe7538ec2aa2a0",
            "476556d484604c6db4c834c9755b06e8",
            "81b84f12b75a4d83b842208611535747",
            "a77f260a459e4232924dcfa829ea52c8",
            "528bc1888fbb4d72b275fa5acc28f7eb",
            "0066cb65ab364961ae0bb670d1740fa8",
            "d6f95c9d2c5b46cf9f323afb09d0d544"
          ]
        }
      },
      "source": [
        "  H = []\n",
        "  for i, (grad, p) in enumerate(zip(df_dx, G.parameters())):\n",
        "      grad = grad.reshape(-1)\n",
        "      d = len(grad)\n",
        "      dg = torch.zeros((d, d))\n",
        "      for j, g in tqdm(enumerate(grad)):\n",
        "          g2 = autograd.grad(g, p, create_graph=True)[0].view(-1)\n",
        "          # print (g2)\n",
        "          dg[j] = g2\n",
        "\n",
        "      H.append(dg)\n",
        "  print (H)\n"
      ],
      "execution_count": 0,
      "outputs": [
        {
          "output_type": "display_data",
          "data": {
            "application/vnd.jupyter.widget-view+json": {
              "model_id": "f07ce81dd8ff437a9fa3626429776410",
              "version_minor": 0,
              "version_major": 2
            },
            "text/plain": [
              "HBox(children=(IntProgress(value=1, bar_style='info', max=1), HTML(value='')))"
            ]
          },
          "metadata": {
            "tags": []
          }
        }
      ]
    },
    {
      "cell_type": "code",
      "metadata": {
        "id": "7m2lpIiDQt41",
        "colab_type": "code",
        "colab": {}
      },
      "source": [
        "H"
      ],
      "execution_count": 0,
      "outputs": []
    }
  ]
}